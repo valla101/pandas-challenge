{
 "cells": [
  {
   "cell_type": "code",
   "execution_count": 3,
   "metadata": {},
   "outputs": [],
   "source": [
    "import pandas as pd"
   ]
  },
  {
   "cell_type": "code",
   "execution_count": 4,
   "metadata": {},
   "outputs": [],
   "source": [
    "stu_path = pd.read_csv('Resources/students_complete.csv', delimiter = ',')\n",
    "sch_path = pd.read_csv('Resources/schools_complete.csv', delimiter = ',')"
   ]
  },
  {
   "cell_type": "code",
   "execution_count": 5,
   "metadata": {},
   "outputs": [
    {
     "data": {
      "text/plain": [
       "Index(['School ID', 'school_name', 'type', 'size', 'budget'], dtype='object')"
      ]
     },
     "execution_count": 5,
     "metadata": {},
     "output_type": "execute_result"
    }
   ],
   "source": [
    "sch_path.columns"
   ]
  },
  {
   "cell_type": "code",
   "execution_count": 6,
   "metadata": {},
   "outputs": [
    {
     "data": {
      "text/plain": [
       "Index(['Student ID', 'student_name', 'gender', 'grade', 'school_name',\n",
       "       'reading_score', 'math_score'],\n",
       "      dtype='object')"
      ]
     },
     "execution_count": 6,
     "metadata": {},
     "output_type": "execute_result"
    }
   ],
   "source": [
    "stu_path.columns"
   ]
  },
  {
   "cell_type": "code",
   "execution_count": 7,
   "metadata": {},
   "outputs": [
    {
     "name": "stdout",
     "output_type": "stream",
     "text": [
      "            student_name  reading_score  math_score\n",
      "0           Paul Bradley             66          79\n",
      "1           Victor Smith             94          61\n",
      "2        Kevin Rodriguez             90          60\n",
      "3      Dr. Richard Scott             67          58\n",
      "4             Bonnie Ray             97          84\n",
      "...                  ...            ...         ...\n",
      "39165       Donna Howard             99          90\n",
      "39166          Dawn Bell             95          70\n",
      "39167     Rebecca Tanner             73          84\n",
      "39168       Desiree Kidd             99          90\n",
      "39169    Carolyn Jackson             95          75\n",
      "\n",
      "[39170 rows x 3 columns]\n"
     ]
    }
   ],
   "source": [
    "stu_data = stu_path[[\"student_name\",\"reading_score\",\"math_score\"]]\n",
    "print(stu_data)"
   ]
  },
  {
   "cell_type": "code",
   "execution_count": 51,
   "metadata": {},
   "outputs": [
    {
     "data": {
      "text/html": [
       "<div>\n",
       "<style scoped>\n",
       "    .dataframe tbody tr th:only-of-type {\n",
       "        vertical-align: middle;\n",
       "    }\n",
       "\n",
       "    .dataframe tbody tr th {\n",
       "        vertical-align: top;\n",
       "    }\n",
       "\n",
       "    .dataframe thead th {\n",
       "        text-align: right;\n",
       "    }\n",
       "</style>\n",
       "<table border=\"1\" class=\"dataframe\">\n",
       "  <thead>\n",
       "    <tr style=\"text-align: right;\">\n",
       "      <th></th>\n",
       "      <th>School ID</th>\n",
       "      <th>school_name</th>\n",
       "      <th>type</th>\n",
       "      <th>size</th>\n",
       "      <th>budget</th>\n",
       "    </tr>\n",
       "  </thead>\n",
       "  <tbody>\n",
       "    <tr>\n",
       "      <td>0</td>\n",
       "      <td>0</td>\n",
       "      <td>Huang High School</td>\n",
       "      <td>District</td>\n",
       "      <td>2917</td>\n",
       "      <td>1910635</td>\n",
       "    </tr>\n",
       "    <tr>\n",
       "      <td>1</td>\n",
       "      <td>1</td>\n",
       "      <td>Figueroa High School</td>\n",
       "      <td>District</td>\n",
       "      <td>2949</td>\n",
       "      <td>1884411</td>\n",
       "    </tr>\n",
       "    <tr>\n",
       "      <td>2</td>\n",
       "      <td>2</td>\n",
       "      <td>Shelton High School</td>\n",
       "      <td>Charter</td>\n",
       "      <td>1761</td>\n",
       "      <td>1056600</td>\n",
       "    </tr>\n",
       "    <tr>\n",
       "      <td>3</td>\n",
       "      <td>3</td>\n",
       "      <td>Hernandez High School</td>\n",
       "      <td>District</td>\n",
       "      <td>4635</td>\n",
       "      <td>3022020</td>\n",
       "    </tr>\n",
       "    <tr>\n",
       "      <td>4</td>\n",
       "      <td>4</td>\n",
       "      <td>Griffin High School</td>\n",
       "      <td>Charter</td>\n",
       "      <td>1468</td>\n",
       "      <td>917500</td>\n",
       "    </tr>\n",
       "  </tbody>\n",
       "</table>\n",
       "</div>"
      ],
      "text/plain": [
       "   School ID            school_name      type  size   budget\n",
       "0          0      Huang High School  District  2917  1910635\n",
       "1          1   Figueroa High School  District  2949  1884411\n",
       "2          2    Shelton High School   Charter  1761  1056600\n",
       "3          3  Hernandez High School  District  4635  3022020\n",
       "4          4    Griffin High School   Charter  1468   917500"
      ]
     },
     "execution_count": 51,
     "metadata": {},
     "output_type": "execute_result"
    }
   ],
   "source": [
    "sch_path.rename({\"School Name\":\"school_name\", \"Type\":\"type\"})\n",
    "sch_path.head()"
   ]
  },
  {
   "cell_type": "code",
   "execution_count": 8,
   "metadata": {},
   "outputs": [
    {
     "name": "stdout",
     "output_type": "stream",
     "text": [
      "              school_name   budget\n",
      "0       Huang High School  1910635\n",
      "1    Figueroa High School  1884411\n",
      "2     Shelton High School  1056600\n",
      "3   Hernandez High School  3022020\n",
      "4     Griffin High School   917500\n",
      "5      Wilson High School  1319574\n",
      "6     Cabrera High School  1081356\n",
      "7      Bailey High School  3124928\n",
      "8      Holden High School   248087\n",
      "9        Pena High School   585858\n",
      "10     Wright High School  1049400\n",
      "11  Rodriguez High School  2547363\n",
      "12    Johnson High School  3094650\n",
      "13       Ford High School  1763916\n",
      "14     Thomas High School  1043130\n"
     ]
    }
   ],
   "source": [
    "sch_data = sch_path[[\"school_name\",\"budget\"]]\n",
    "print(sch_data)"
   ]
  },
  {
   "cell_type": "code",
   "execution_count": 9,
   "metadata": {},
   "outputs": [
    {
     "data": {
      "text/plain": [
       "24649428"
      ]
     },
     "execution_count": 9,
     "metadata": {},
     "output_type": "execute_result"
    }
   ],
   "source": [
    "#Sum of the total budget of all schools\n",
    "total_budget = sch_path[\"budget\"].sum()\n",
    "total_budget"
   ]
  },
  {
   "cell_type": "code",
   "execution_count": 10,
   "metadata": {},
   "outputs": [
    {
     "data": {
      "text/plain": [
       "15"
      ]
     },
     "execution_count": 10,
     "metadata": {},
     "output_type": "execute_result"
    }
   ],
   "source": [
    "#Count of total number of schools\n",
    "total_schools = sch_path[\"school_name\"].count()\n",
    "total_schools"
   ]
  },
  {
   "cell_type": "code",
   "execution_count": 11,
   "metadata": {},
   "outputs": [
    {
     "data": {
      "text/plain": [
       "39170"
      ]
     },
     "execution_count": 11,
     "metadata": {},
     "output_type": "execute_result"
    }
   ],
   "source": [
    "#Count Total Students\n",
    "total_students = stu_path[\"student_name\"].count()\n",
    "total_students"
   ]
  },
  {
   "cell_type": "code",
   "execution_count": 12,
   "metadata": {},
   "outputs": [
    {
     "data": {
      "text/plain": [
       "'78.99'"
      ]
     },
     "execution_count": 12,
     "metadata": {},
     "output_type": "execute_result"
    }
   ],
   "source": [
    "#Average Math Scores\n",
    "avg_math_scores = stu_path[\"math_score\"].mean()\n",
    "avg_math_scores = \"{:.2f}\".format(avg_math_scores)\n",
    "avg_math_scores"
   ]
  },
  {
   "cell_type": "code",
   "execution_count": 13,
   "metadata": {},
   "outputs": [
    {
     "data": {
      "text/plain": [
       "'81.88'"
      ]
     },
     "execution_count": 13,
     "metadata": {},
     "output_type": "execute_result"
    }
   ],
   "source": [
    "#Average Reading Scores\n",
    "avg_reading_scores = stu_path[\"reading_score\"].mean()\n",
    "avg_reading_scores = \"{:.2f}\".format(avg_reading_scores)\n",
    "avg_reading_scores"
   ]
  },
  {
   "cell_type": "code",
   "execution_count": 14,
   "metadata": {},
   "outputs": [
    {
     "data": {
      "text/plain": [
       "32555"
      ]
     },
     "execution_count": 14,
     "metadata": {},
     "output_type": "execute_result"
    }
   ],
   "source": [
    "#Total Students Passing Math\n",
    "students_pass_math = stu_path.loc[stu_path[\"math_score\"] > 65, \"student_name\"]\n",
    "students_pass_math.count()"
   ]
  },
  {
   "cell_type": "code",
   "execution_count": 15,
   "metadata": {},
   "outputs": [
    {
     "data": {
      "text/plain": [
       "36923"
      ]
     },
     "execution_count": 15,
     "metadata": {},
     "output_type": "execute_result"
    }
   ],
   "source": [
    "#Total Students Passing Reading\n",
    "students_pass_reading = stu_path.loc[stu_path[\"reading_score\"] > 65, \"student_name\"]\n",
    "students_pass_reading.count()"
   ]
  },
  {
   "cell_type": "code",
   "execution_count": 16,
   "metadata": {},
   "outputs": [
    {
     "data": {
      "text/plain": [
       "'83.11 %'"
      ]
     },
     "execution_count": 16,
     "metadata": {},
     "output_type": "execute_result"
    }
   ],
   "source": [
    "#Percentage of Students Passing Math\n",
    "percent_pass_math = (len(students_pass_math)/total_students)*100\n",
    "percent_pass_math_string = \"{:.2f}\".format(percent_pass_math)\n",
    "percent_pass_math_aspercent = f'{percent_pass_math_string} %'\n",
    "percent_pass_math_aspercent"
   ]
  },
  {
   "cell_type": "code",
   "execution_count": 17,
   "metadata": {},
   "outputs": [
    {
     "data": {
      "text/plain": [
       "'94.26 %'"
      ]
     },
     "execution_count": 17,
     "metadata": {},
     "output_type": "execute_result"
    }
   ],
   "source": [
    "#Percentage of Students Passing Reading\n",
    "percent_pass_reading = (len(students_pass_reading)/total_students)*100\n",
    "percent_pass_reading_string = \"{:.2f}\".format(percent_pass_reading)\n",
    "percent_pass_reading_aspercent = f'{percent_pass_reading_string} %'\n",
    "percent_pass_reading_aspercent \n",
    "# = \"{:.2f}\".format(percent_pass_reading)"
   ]
  },
  {
   "cell_type": "code",
   "execution_count": 18,
   "metadata": {},
   "outputs": [
    {
     "data": {
      "text/plain": [
       "'88.69 %'"
      ]
     },
     "execution_count": 18,
     "metadata": {},
     "output_type": "execute_result"
    }
   ],
   "source": [
    "#Average of both Math & Reading Averages\n",
    "Average_of_scores = ((percent_pass_math + percent_pass_reading)/2)\n",
    "Average_of_scores_string = \"{:.2f}\".format(Average_of_scores)\n",
    "Average_of_scores_aspercent = f'{Average_of_scores_string} %'\n",
    "Average_of_scores_aspercent"
   ]
  },
  {
   "cell_type": "code",
   "execution_count": 19,
   "metadata": {},
   "outputs": [
    {
     "data": {
      "text/html": [
       "<div>\n",
       "<style scoped>\n",
       "    .dataframe tbody tr th:only-of-type {\n",
       "        vertical-align: middle;\n",
       "    }\n",
       "\n",
       "    .dataframe tbody tr th {\n",
       "        vertical-align: top;\n",
       "    }\n",
       "\n",
       "    .dataframe thead th {\n",
       "        text-align: right;\n",
       "    }\n",
       "</style>\n",
       "<table border=\"1\" class=\"dataframe\">\n",
       "  <thead>\n",
       "    <tr style=\"text-align: right;\">\n",
       "      <th></th>\n",
       "      <th>Total Budget</th>\n",
       "      <th>Total Schools</th>\n",
       "      <th>Total Students</th>\n",
       "      <th>Average Math Scores</th>\n",
       "      <th>Average Reading Scores</th>\n",
       "      <th>Passing Students (Math)</th>\n",
       "      <th>Passing Students (Reading)</th>\n",
       "      <th>Percent Pass (Math)</th>\n",
       "      <th>Percent Pass (Reading)</th>\n",
       "      <th>Average of Reading &amp; Math Scores</th>\n",
       "    </tr>\n",
       "  </thead>\n",
       "  <tbody>\n",
       "    <tr>\n",
       "      <td>0</td>\n",
       "      <td>24649428</td>\n",
       "      <td>15</td>\n",
       "      <td>39170</td>\n",
       "      <td>78.99</td>\n",
       "      <td>81.88</td>\n",
       "      <td>32555</td>\n",
       "      <td>36923</td>\n",
       "      <td>83.11 %</td>\n",
       "      <td>94.26 %</td>\n",
       "      <td>88.69 %</td>\n",
       "    </tr>\n",
       "  </tbody>\n",
       "</table>\n",
       "</div>"
      ],
      "text/plain": [
       "   Total Budget  Total Schools  Total Students Average Math Scores  \\\n",
       "0      24649428             15           39170               78.99   \n",
       "\n",
       "  Average Reading Scores  Passing Students (Math)  Passing Students (Reading)  \\\n",
       "0                  81.88                    32555                       36923   \n",
       "\n",
       "  Percent Pass (Math) Percent Pass (Reading) Average of Reading & Math Scores  \n",
       "0             83.11 %                94.26 %                          88.69 %  "
      ]
     },
     "execution_count": 19,
     "metadata": {},
     "output_type": "execute_result"
    }
   ],
   "source": [
    "#creating Data Frame Table for district schools\n",
    "district_table = [{\"Total Budget\":total_budget, \"Total Schools\":total_schools, \"Total Students\":total_students, \n",
    "                  \"Average Math Scores\":avg_math_scores, \"Average Reading Scores\":avg_reading_scores, \"Passing Students (Math)\":students_pass_math.count(),\n",
    "                  \"Passing Students (Reading)\":students_pass_reading.count(),\"Percent Pass (Math)\":percent_pass_math_aspercent,\n",
    "                  \"Percent Pass (Reading)\":percent_pass_reading_aspercent, \"Average of Reading & Math Scores\":Average_of_scores_aspercent}]\n",
    "dist_table_df = pd.DataFrame(district_table)\n",
    "dist_table_df"
   ]
  },
  {
   "cell_type": "code",
   "execution_count": 20,
   "metadata": {},
   "outputs": [],
   "source": [
    "#Import Students for Each School using loc\n",
    "#Compare to count in schools_csv data. The numbers should match\n",
    "students_huang = stu_path.loc[stu_path[\"school_name\"] == \"Huang High School\", [\"student_name\",\"reading_score\", \"math_score\"]]\n",
    "\n",
    "students_fig = stu_path.loc[stu_path[\"school_name\"] == \"Figueroa High School\", [\"student_name\",\"reading_score\", \"math_score\"]]\n",
    "\n",
    "students_shelton = stu_path.loc[stu_path[\"school_name\"] == \"Shelton High School\", [\"student_name\",\"reading_score\", \"math_score\"]]\n",
    "\n",
    "students_hern = stu_path.loc[stu_path[\"school_name\"] == \"Hernandez High School\", [\"student_name\",\"reading_score\", \"math_score\"]]\n",
    "\n",
    "students_griffin = stu_path.loc[stu_path[\"school_name\"] == \"Griffin High School\", [\"student_name\",\"reading_score\", \"math_score\"]]\n",
    "\n",
    "students_wilson = stu_path.loc[stu_path[\"school_name\"] == \"Wilson High School\", [\"student_name\",\"reading_score\", \"math_score\"]]\n",
    "\n",
    "students_cabrera = stu_path.loc[stu_path[\"school_name\"] == \"Cabrera High School\", [\"student_name\",\"reading_score\", \"math_score\"]]\n",
    "\n",
    "students_bailey = stu_path.loc[stu_path[\"school_name\"] == \"Bailey High School\", [\"student_name\",\"reading_score\", \"math_score\"]]\n",
    "\n",
    "students_holden = stu_path.loc[stu_path[\"school_name\"] == \"Holden High School\", [\"student_name\",\"reading_score\", \"math_score\"]]\n",
    "\n",
    "students_pena = stu_path.loc[stu_path[\"school_name\"] == \"Pena High School\", [\"student_name\",\"reading_score\", \"math_score\"]]\n",
    "\n",
    "students_wright = stu_path.loc[stu_path[\"school_name\"] == \"Wright High School\", [\"student_name\",\"reading_score\", \"math_score\"]]\n",
    "\n",
    "students_rod = stu_path.loc[stu_path[\"school_name\"] == \"Rodriguez High School\", [\"student_name\",\"reading_score\", \"math_score\"]]\n",
    "\n",
    "students_johnson = stu_path.loc[stu_path[\"school_name\"] == \"Johnson High School\", [\"student_name\",\"reading_score\", \"math_score\"]]\n",
    "\n",
    "students_ford = stu_path.loc[stu_path[\"school_name\"] == \"Ford High School\", [\"student_name\",\"reading_score\", \"math_score\"]]\n",
    "\n",
    "students_thomas = stu_path.loc[stu_path[\"school_name\"] == \"Thomas High School\", [\"student_name\",\"reading_score\", \"math_score\"]]\n"
   ]
  },
  {
   "cell_type": "code",
   "execution_count": 35,
   "metadata": {},
   "outputs": [
    {
     "data": {
      "text/html": [
       "<div>\n",
       "<style scoped>\n",
       "    .dataframe tbody tr th:only-of-type {\n",
       "        vertical-align: middle;\n",
       "    }\n",
       "\n",
       "    .dataframe tbody tr th {\n",
       "        vertical-align: top;\n",
       "    }\n",
       "\n",
       "    .dataframe thead th {\n",
       "        text-align: right;\n",
       "    }\n",
       "</style>\n",
       "<table border=\"1\" class=\"dataframe\">\n",
       "  <thead>\n",
       "    <tr style=\"text-align: right;\">\n",
       "      <th></th>\n",
       "      <th>school_name</th>\n",
       "      <th>type</th>\n",
       "      <th>size</th>\n",
       "      <th>budget</th>\n",
       "    </tr>\n",
       "  </thead>\n",
       "  <tbody>\n",
       "    <tr>\n",
       "      <td>0</td>\n",
       "      <td>Huang High School</td>\n",
       "      <td>District</td>\n",
       "      <td>2917</td>\n",
       "      <td>1910635</td>\n",
       "    </tr>\n",
       "  </tbody>\n",
       "</table>\n",
       "</div>"
      ],
      "text/plain": [
       "         school_name      type  size   budget\n",
       "0  Huang High School  District  2917  1910635"
      ]
     },
     "execution_count": 35,
     "metadata": {},
     "output_type": "execute_result"
    }
   ],
   "source": [
    "#define data frame for Huang High School. Find out how to append values that you have calculated\n",
    "huang_data = sch_path.loc[sch_path[\"school_name\"] == \"Huang High School\", [\"school_name\",\"type\",\"size\",\"budget\"]]\n",
    "huang_data"
   ]
  },
  {
   "cell_type": "code",
   "execution_count": 22,
   "metadata": {},
   "outputs": [
    {
     "data": {
      "text/plain": [
       "76.62941378128214"
      ]
     },
     "execution_count": 22,
     "metadata": {},
     "output_type": "execute_result"
    }
   ],
   "source": [
    "#Average Math Scores Huang\n",
    "huang_math_avg = float(students_huang[[\"math_score\"]].mean())\n",
    "huang_math_avg"
   ]
  },
  {
   "cell_type": "code",
   "execution_count": 23,
   "metadata": {},
   "outputs": [
    {
     "data": {
      "text/plain": [
       "81.18272197463148"
      ]
     },
     "execution_count": 23,
     "metadata": {},
     "output_type": "execute_result"
    }
   ],
   "source": [
    "#Average Reading Scores Huang\n",
    "huang_reading_avg = float(students_huang[[\"reading_score\"]].mean())\n",
    "huang_reading_avg "
   ]
  },
  {
   "cell_type": "code",
   "execution_count": 24,
   "metadata": {},
   "outputs": [
    {
     "data": {
      "text/plain": [
       "75.28282482002056"
      ]
     },
     "execution_count": 24,
     "metadata": {},
     "output_type": "execute_result"
    }
   ],
   "source": [
    "#Calculating Pass Rate for Math at Huang High School\n",
    "\n",
    "#Finding Students that have Math Score > 65\n",
    "huang_students_pass_math = students_huang.loc[students_huang[\"math_score\"] > 65, [\"student_name\"]]\n",
    "\n",
    "#Using the count command to find total students divided by total size of Huang High School students\n",
    "huang_pass_rate_math = float((huang_students_pass_math.count()/int(huang_data[\"size\"]))*100)\n",
    "huang_pass_rate_math"
   ]
  },
  {
   "cell_type": "code",
   "execution_count": 25,
   "metadata": {},
   "outputs": [
    {
     "data": {
      "text/plain": [
       "91.7723688721289"
      ]
     },
     "execution_count": 25,
     "metadata": {},
     "output_type": "execute_result"
    }
   ],
   "source": [
    "#Calculating Pass Rate for Reading at Huang High School\n",
    "\n",
    "#Finding Students that have Math Score > 65\n",
    "huang_students_pass_reading = students_huang.loc[students_huang[\"reading_score\"] > 65, [\"student_name\"]]\n",
    "\n",
    "#Using the count command to find total students divided by total size of Huang High School students\n",
    "huang_pass_rate_reading = float((huang_students_pass_reading.count()/int(huang_data[\"size\"]))*100)\n",
    "huang_pass_rate_reading"
   ]
  },
  {
   "cell_type": "code",
   "execution_count": 26,
   "metadata": {},
   "outputs": [
    {
     "data": {
      "text/plain": [
       "83.52759684607473"
      ]
     },
     "execution_count": 26,
     "metadata": {},
     "output_type": "execute_result"
    }
   ],
   "source": [
    "#Calculating overall passing rate for Huang High School\n",
    "huang_overall_pass_rate = (huang_pass_rate_math+huang_pass_rate_reading)/2\n",
    "huang_overall_pass_rate"
   ]
  },
  {
   "cell_type": "code",
   "execution_count": 27,
   "metadata": {},
   "outputs": [
    {
     "data": {
      "text/html": [
       "<div>\n",
       "<style scoped>\n",
       "    .dataframe tbody tr th:only-of-type {\n",
       "        vertical-align: middle;\n",
       "    }\n",
       "\n",
       "    .dataframe tbody tr th {\n",
       "        vertical-align: top;\n",
       "    }\n",
       "\n",
       "    .dataframe thead th {\n",
       "        text-align: right;\n",
       "    }\n",
       "</style>\n",
       "<table border=\"1\" class=\"dataframe\">\n",
       "  <thead>\n",
       "    <tr style=\"text-align: right;\">\n",
       "      <th></th>\n",
       "      <th>Average Math Scores</th>\n",
       "      <th>Passing Rate (Math)</th>\n",
       "      <th>Average Reading Scores</th>\n",
       "      <th>Passing Rate (Reading)</th>\n",
       "      <th>Overall Passing Rate</th>\n",
       "    </tr>\n",
       "  </thead>\n",
       "  <tbody>\n",
       "    <tr>\n",
       "      <td>0</td>\n",
       "      <td>76.629414</td>\n",
       "      <td>75.282825</td>\n",
       "      <td>81.182722</td>\n",
       "      <td>91.772369</td>\n",
       "      <td>83.527597</td>\n",
       "    </tr>\n",
       "  </tbody>\n",
       "</table>\n",
       "</div>"
      ],
      "text/plain": [
       "   Average Math Scores  Passing Rate (Math)  Average Reading Scores  \\\n",
       "0            76.629414            75.282825               81.182722   \n",
       "\n",
       "   Passing Rate (Reading)  Overall Passing Rate  \n",
       "0               91.772369             83.527597  "
      ]
     },
     "execution_count": 27,
     "metadata": {},
     "output_type": "execute_result"
    }
   ],
   "source": [
    "#Building Data Frame based off statistics\n",
    "metrics_huang = [{\"Average Math Scores\":huang_math_avg, \"Passing Rate (Math)\":huang_pass_rate_math, \"Average Reading Scores\":huang_reading_avg,\n",
    "                 \"Passing Rate (Reading)\":huang_pass_rate_reading, \"Overall Passing Rate\":huang_overall_pass_rate}]\n",
    "metrics_huang_df = pd.DataFrame(metrics_huang)\n",
    "metrics_huang_df"
   ]
  },
  {
   "cell_type": "code",
   "execution_count": 29,
   "metadata": {},
   "outputs": [
    {
     "data": {
      "text/html": [
       "<div>\n",
       "<style scoped>\n",
       "    .dataframe tbody tr th:only-of-type {\n",
       "        vertical-align: middle;\n",
       "    }\n",
       "\n",
       "    .dataframe tbody tr th {\n",
       "        vertical-align: top;\n",
       "    }\n",
       "\n",
       "    .dataframe thead th {\n",
       "        text-align: right;\n",
       "    }\n",
       "</style>\n",
       "<table border=\"1\" class=\"dataframe\">\n",
       "  <thead>\n",
       "    <tr style=\"text-align: right;\">\n",
       "      <th></th>\n",
       "      <th>school_name</th>\n",
       "      <th>type</th>\n",
       "      <th>size</th>\n",
       "      <th>budget</th>\n",
       "      <th>Average Math Scores</th>\n",
       "      <th>Passing Rate (Math)</th>\n",
       "      <th>Average Reading Scores</th>\n",
       "      <th>Passing Rate (Reading)</th>\n",
       "      <th>Overall Passing Rate</th>\n",
       "    </tr>\n",
       "  </thead>\n",
       "  <tbody>\n",
       "    <tr>\n",
       "      <td>0</td>\n",
       "      <td>Huang High School</td>\n",
       "      <td>District</td>\n",
       "      <td>2917</td>\n",
       "      <td>1910635</td>\n",
       "      <td>76.629414</td>\n",
       "      <td>75.282825</td>\n",
       "      <td>81.182722</td>\n",
       "      <td>91.772369</td>\n",
       "      <td>83.527597</td>\n",
       "    </tr>\n",
       "  </tbody>\n",
       "</table>\n",
       "</div>"
      ],
      "text/plain": [
       "         school_name      type  size   budget  Average Math Scores  \\\n",
       "0  Huang High School  District  2917  1910635            76.629414   \n",
       "\n",
       "   Passing Rate (Math)  Average Reading Scores  Passing Rate (Reading)  \\\n",
       "0            75.282825               81.182722               91.772369   \n",
       "\n",
       "   Overall Passing Rate  \n",
       "0             83.527597  "
      ]
     },
     "execution_count": 29,
     "metadata": {},
     "output_type": "execute_result"
    }
   ],
   "source": [
    "#Merging 2 existing Data Frames to create Data Frame for Huang High School\n",
    "huang_df = pd.concat([huang_data, metrics_huang_df], axis=1, ignore_index=False)\n",
    "huang_df"
   ]
  },
  {
   "cell_type": "code",
   "execution_count": null,
   "metadata": {},
   "outputs": [],
   "source": []
  },
  {
   "cell_type": "code",
   "execution_count": 85,
   "metadata": {
    "scrolled": true
   },
   "outputs": [
    {
     "data": {
      "text/html": [
       "<div>\n",
       "<style scoped>\n",
       "    .dataframe tbody tr th:only-of-type {\n",
       "        vertical-align: middle;\n",
       "    }\n",
       "\n",
       "    .dataframe tbody tr th {\n",
       "        vertical-align: top;\n",
       "    }\n",
       "\n",
       "    .dataframe thead th {\n",
       "        text-align: right;\n",
       "    }\n",
       "</style>\n",
       "<table border=\"1\" class=\"dataframe\">\n",
       "  <thead>\n",
       "    <tr style=\"text-align: right;\">\n",
       "      <th></th>\n",
       "      <th>school_name</th>\n",
       "    </tr>\n",
       "  </thead>\n",
       "  <tbody>\n",
       "    <tr>\n",
       "      <td>0</td>\n",
       "      <td>Huang High School</td>\n",
       "    </tr>\n",
       "    <tr>\n",
       "      <td>1</td>\n",
       "      <td>Figueroa High School</td>\n",
       "    </tr>\n",
       "    <tr>\n",
       "      <td>3</td>\n",
       "      <td>Hernandez High School</td>\n",
       "    </tr>\n",
       "    <tr>\n",
       "      <td>7</td>\n",
       "      <td>Bailey High School</td>\n",
       "    </tr>\n",
       "    <tr>\n",
       "      <td>11</td>\n",
       "      <td>Rodriguez High School</td>\n",
       "    </tr>\n",
       "    <tr>\n",
       "      <td>12</td>\n",
       "      <td>Johnson High School</td>\n",
       "    </tr>\n",
       "    <tr>\n",
       "      <td>13</td>\n",
       "      <td>Ford High School</td>\n",
       "    </tr>\n",
       "  </tbody>\n",
       "</table>\n",
       "</div>"
      ],
      "text/plain": [
       "              school_name\n",
       "0       Huang High School\n",
       "1    Figueroa High School\n",
       "3   Hernandez High School\n",
       "7      Bailey High School\n",
       "11  Rodriguez High School\n",
       "12    Johnson High School\n",
       "13       Ford High School"
      ]
     },
     "execution_count": 85,
     "metadata": {},
     "output_type": "execute_result"
    }
   ],
   "source": [
    "#Leave this code for data of district vs charter\n",
    "type_district_sch_data = sch_path.loc[sch_path[\"type\"] == \"District\", [\"school_name\"]]\n",
    "type_district_sch_data"
   ]
  }
 ],
 "metadata": {
  "kernelspec": {
   "display_name": "Python 3",
   "language": "python",
   "name": "python3"
  },
  "language_info": {
   "codemirror_mode": {
    "name": "ipython",
    "version": 3
   },
   "file_extension": ".py",
   "mimetype": "text/x-python",
   "name": "python",
   "nbconvert_exporter": "python",
   "pygments_lexer": "ipython3",
   "version": "3.7.4"
  }
 },
 "nbformat": 4,
 "nbformat_minor": 2
}
